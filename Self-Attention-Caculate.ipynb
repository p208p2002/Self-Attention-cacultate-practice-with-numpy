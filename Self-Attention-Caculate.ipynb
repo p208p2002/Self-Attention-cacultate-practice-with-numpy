{
 "cells": [
  {
   "cell_type": "markdown",
   "metadata": {},
   "source": [
    "# Self-Attention cacultate with numpy"
   ]
  },
  {
   "cell_type": "code",
   "execution_count": 1,
   "metadata": {},
   "outputs": [],
   "source": [
    "import numpy as np\n",
    "from scipy.special import softmax"
   ]
  },
  {
   "cell_type": "markdown",
   "metadata": {},
   "source": [
    "## Input"
   ]
  },
  {
   "cell_type": "code",
   "execution_count": 2,
   "metadata": {},
   "outputs": [],
   "source": [
    "input_1 = np.array([1, 0, 1, 0], dtype='float32')\n",
    "input_2 = np.array([0, 2, 0, 2], dtype='float32')\n",
    "input_3 = np.array([1, 1, 1, 1], dtype='float32')"
   ]
  },
  {
   "cell_type": "markdown",
   "metadata": {},
   "source": [
    "## Weight"
   ]
  },
  {
   "cell_type": "code",
   "execution_count": 3,
   "metadata": {},
   "outputs": [],
   "source": [
    "wk = np.array([[0, 0, 1],\n",
    "             [1, 1, 0],\n",
    "             [0, 1, 0],\n",
    "             [1, 1, 0]], dtype='float32')\n",
    "wq = np.array([[1, 0, 1],\n",
    "             [1, 0, 0],\n",
    "             [0, 0, 1],\n",
    "             [0, 1, 1]], dtype='float32')\n",
    "wv = np.array([[0, 2, 0],\n",
    "             [0, 3, 0],\n",
    "             [1, 0, 3],\n",
    "             [1, 1, 0]], dtype='float32')"
   ]
  },
  {
   "cell_type": "markdown",
   "metadata": {},
   "source": [
    "## Calculate Key Representations"
   ]
  },
  {
   "cell_type": "markdown",
   "metadata": {},
   "source": [
    "### Calculate for input"
   ]
  },
  {
   "cell_type": "code",
   "execution_count": 4,
   "metadata": {
    "scrolled": true
   },
   "outputs": [
    {
     "name": "stdout",
     "output_type": "stream",
     "text": [
      "[0. 1. 1.]\n",
      "[4. 4. 0.]\n",
      "[2. 3. 1.]\n"
     ]
    }
   ],
   "source": [
    "print(input_1.dot(wk))\n",
    "print(input_2.dot(wk))\n",
    "print(input_3.dot(wk))"
   ]
  },
  {
   "cell_type": "markdown",
   "metadata": {},
   "source": [
    "### Calculate for inputs"
   ]
  },
  {
   "cell_type": "code",
   "execution_count": 5,
   "metadata": {},
   "outputs": [
    {
     "name": "stdout",
     "output_type": "stream",
     "text": [
      "[[1. 0. 1. 0.]\n",
      " [0. 2. 0. 2.]\n",
      " [1. 1. 1. 1.]]\n"
     ]
    }
   ],
   "source": [
    "inputs = np.vstack([input_1,input_2,input_3])\n",
    "print(inputs)"
   ]
  },
  {
   "cell_type": "code",
   "execution_count": 6,
   "metadata": {},
   "outputs": [
    {
     "data": {
      "text/plain": [
       "array([[0., 1., 1.],\n",
       "       [4., 4., 0.],\n",
       "       [2., 3., 1.]], dtype=float32)"
      ]
     },
     "execution_count": 6,
     "metadata": {},
     "output_type": "execute_result"
    }
   ],
   "source": [
    "inputs.dot(wk) # same with \"compute KR\""
   ]
  },
  {
   "cell_type": "markdown",
   "metadata": {},
   "source": [
    "## Calculate QKV representations"
   ]
  },
  {
   "cell_type": "code",
   "execution_count": 7,
   "metadata": {},
   "outputs": [],
   "source": [
    "query_representations = inputs.dot(wq)\n",
    "key_representations = inputs.dot(wk)\n",
    "value_representations = inputs.dot(wv)\n",
    "query_representations_dim = np.array([float(query_representations.shape[0])**0.5],dtype='float32')"
   ]
  },
  {
   "cell_type": "code",
   "execution_count": 8,
   "metadata": {},
   "outputs": [
    {
     "name": "stdout",
     "output_type": "stream",
     "text": [
      "[[1. 0. 2.]\n",
      " [2. 2. 2.]\n",
      " [2. 1. 3.]] \n",
      "\n",
      "[[0. 1. 1.]\n",
      " [4. 4. 0.]\n",
      " [2. 3. 1.]] \n",
      "\n",
      "[[1. 2. 3.]\n",
      " [2. 8. 0.]\n",
      " [2. 6. 3.]] \n",
      "\n",
      "[1.7320508]\n"
     ]
    }
   ],
   "source": [
    "print(query_representations,\"\\n\")\n",
    "print(key_representations,\"\\n\")\n",
    "print(value_representations,\"\\n\")\n",
    "print(query_representations_dim)"
   ]
  },
  {
   "cell_type": "markdown",
   "metadata": {},
   "source": [
    "## Calculate attention scores"
   ]
  },
  {
   "cell_type": "markdown",
   "metadata": {},
   "source": [
    "![](https://picb.zhimg.com/80/v2-752c1c91e1b4dbca1b64f59a7e026b9b_720w.jpg)"
   ]
  },
  {
   "cell_type": "code",
   "execution_count": 9,
   "metadata": {},
   "outputs": [
    {
     "data": {
      "text/plain": [
       "array([[1.8638741 , 6.3193707 , 1.7041886 ],\n",
       "       [1.9991105 , 7.8141265 , 0.27347228],\n",
       "       [1.9925548 , 7.479635  , 0.73587704]], dtype=float32)"
      ]
     },
     "execution_count": 9,
     "metadata": {},
     "output_type": "execute_result"
    }
   ],
   "source": [
    "softmax(np.divide(query_representations.dot(key_representations.transpose()),query_representations_dim),axis=1)\\\n",
    "    .dot(value_representations)"
   ]
  }
 ],
 "metadata": {
  "kernelspec": {
   "display_name": "Python 3",
   "language": "python",
   "name": "python3"
  },
  "language_info": {
   "codemirror_mode": {
    "name": "ipython",
    "version": 3
   },
   "file_extension": ".py",
   "mimetype": "text/x-python",
   "name": "python",
   "nbconvert_exporter": "python",
   "pygments_lexer": "ipython3",
   "version": "3.6.9"
  }
 },
 "nbformat": 4,
 "nbformat_minor": 4
}
